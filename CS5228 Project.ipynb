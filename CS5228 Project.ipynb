{
 "cells": [
  {
   "cell_type": "markdown",
   "metadata": {},
   "source": [
    "# Import libraries and data"
   ]
  },
  {
   "cell_type": "code",
   "execution_count": 140,
   "metadata": {},
   "outputs": [],
   "source": [
    "import numpy as np\n",
    "import pandas as pd\n",
    "import xgboost as xgb\n",
    "from sklearn.preprocessing import LabelEncoder\n",
    "from sklearn.preprocessing import OneHotEncoder"
   ]
  },
  {
   "cell_type": "code",
   "execution_count": 141,
   "metadata": {},
   "outputs": [],
   "source": [
    "Xtrain = pd.read_csv('Xtrain.csv')\n",
    "Ytrain = pd.read_csv('Ytrain.csv')"
   ]
  },
  {
   "cell_type": "code",
   "execution_count": 142,
   "metadata": {},
   "outputs": [
    {
     "data": {
      "text/html": [
       "<div>\n",
       "<style scoped>\n",
       "    .dataframe tbody tr th:only-of-type {\n",
       "        vertical-align: middle;\n",
       "    }\n",
       "\n",
       "    .dataframe tbody tr th {\n",
       "        vertical-align: top;\n",
       "    }\n",
       "\n",
       "    .dataframe thead th {\n",
       "        text-align: right;\n",
       "    }\n",
       "</style>\n",
       "<table border=\"1\" class=\"dataframe\">\n",
       "  <thead>\n",
       "    <tr style=\"text-align: right;\">\n",
       "      <th></th>\n",
       "      <th>Id</th>\n",
       "      <th>Name</th>\n",
       "      <th>City</th>\n",
       "      <th>State</th>\n",
       "      <th>Zip</th>\n",
       "      <th>Bank</th>\n",
       "      <th>BankState</th>\n",
       "      <th>NAICS</th>\n",
       "      <th>ApprovalDate</th>\n",
       "      <th>ApprovalFY</th>\n",
       "      <th>...</th>\n",
       "      <th>RetainedJob</th>\n",
       "      <th>FranchiseCode</th>\n",
       "      <th>UrbanRural</th>\n",
       "      <th>RevLineCr</th>\n",
       "      <th>LowDoc</th>\n",
       "      <th>DisbursementDate</th>\n",
       "      <th>DisbursementGross</th>\n",
       "      <th>BalanceGross</th>\n",
       "      <th>GrAppv</th>\n",
       "      <th>SBA_Appv</th>\n",
       "    </tr>\n",
       "  </thead>\n",
       "  <tbody>\n",
       "    <tr>\n",
       "      <td>0</td>\n",
       "      <td>0</td>\n",
       "      <td>NPE Realty, LLC</td>\n",
       "      <td>Pembroke Pines</td>\n",
       "      <td>FL</td>\n",
       "      <td>33027</td>\n",
       "      <td>TD BANK, NATIONAL ASSOCIATION</td>\n",
       "      <td>DE</td>\n",
       "      <td>334516</td>\n",
       "      <td>16-Apr-10</td>\n",
       "      <td>2010</td>\n",
       "      <td>...</td>\n",
       "      <td>0</td>\n",
       "      <td>0</td>\n",
       "      <td>1</td>\n",
       "      <td>N</td>\n",
       "      <td>N</td>\n",
       "      <td>1-May-10</td>\n",
       "      <td>$2,000,000.00</td>\n",
       "      <td>$0.00</td>\n",
       "      <td>$2,000,000.00</td>\n",
       "      <td>$1,500,000.00</td>\n",
       "    </tr>\n",
       "    <tr>\n",
       "      <td>1</td>\n",
       "      <td>1</td>\n",
       "      <td>KEVCO  CONSTRUCTION, LLC</td>\n",
       "      <td>SANDY</td>\n",
       "      <td>UT</td>\n",
       "      <td>84094</td>\n",
       "      <td>ZIONS FIRST NATIONAL BANK</td>\n",
       "      <td>UT</td>\n",
       "      <td>236115</td>\n",
       "      <td>30-Jan-10</td>\n",
       "      <td>2010</td>\n",
       "      <td>...</td>\n",
       "      <td>3</td>\n",
       "      <td>0</td>\n",
       "      <td>1</td>\n",
       "      <td>N</td>\n",
       "      <td>N</td>\n",
       "      <td>1-Feb-10</td>\n",
       "      <td>$17,000.00</td>\n",
       "      <td>$0.00</td>\n",
       "      <td>$17,000.00</td>\n",
       "      <td>$17,000.00</td>\n",
       "    </tr>\n",
       "    <tr>\n",
       "      <td>2</td>\n",
       "      <td>2</td>\n",
       "      <td>EAST L A SHOE REPAIR</td>\n",
       "      <td>LOS ANGELES</td>\n",
       "      <td>CA</td>\n",
       "      <td>90022</td>\n",
       "      <td>BANK OF AMERICA NATL ASSOC</td>\n",
       "      <td>NC</td>\n",
       "      <td>811430</td>\n",
       "      <td>29-Jul-02</td>\n",
       "      <td>2002</td>\n",
       "      <td>...</td>\n",
       "      <td>1</td>\n",
       "      <td>1</td>\n",
       "      <td>1</td>\n",
       "      <td>Y</td>\n",
       "      <td>N</td>\n",
       "      <td>31-Aug-02</td>\n",
       "      <td>$17,000.00</td>\n",
       "      <td>$0.00</td>\n",
       "      <td>$17,000.00</td>\n",
       "      <td>$8,500.00</td>\n",
       "    </tr>\n",
       "    <tr>\n",
       "      <td>3</td>\n",
       "      <td>3</td>\n",
       "      <td>RUSSLER, DANIEL C, MD</td>\n",
       "      <td>LODI</td>\n",
       "      <td>WI</td>\n",
       "      <td>53555</td>\n",
       "      <td>ASSOCIATED BANK NATL ASSOC</td>\n",
       "      <td>WI</td>\n",
       "      <td>0</td>\n",
       "      <td>10-Jun-94</td>\n",
       "      <td>1994</td>\n",
       "      <td>...</td>\n",
       "      <td>0</td>\n",
       "      <td>1</td>\n",
       "      <td>0</td>\n",
       "      <td>N</td>\n",
       "      <td>N</td>\n",
       "      <td>31-Jul-94</td>\n",
       "      <td>$137,000.00</td>\n",
       "      <td>$0.00</td>\n",
       "      <td>$137,000.00</td>\n",
       "      <td>$123,300.00</td>\n",
       "    </tr>\n",
       "    <tr>\n",
       "      <td>4</td>\n",
       "      <td>4</td>\n",
       "      <td>AFFORDABLE FAMILY DENISTRY LLC</td>\n",
       "      <td>LEBANON</td>\n",
       "      <td>MO</td>\n",
       "      <td>65536</td>\n",
       "      <td>COMMERCE BANK</td>\n",
       "      <td>MO</td>\n",
       "      <td>621210</td>\n",
       "      <td>6-Feb-06</td>\n",
       "      <td>2006</td>\n",
       "      <td>...</td>\n",
       "      <td>2</td>\n",
       "      <td>1</td>\n",
       "      <td>1</td>\n",
       "      <td>T</td>\n",
       "      <td>N</td>\n",
       "      <td>31-Mar-06</td>\n",
       "      <td>$46,665.00</td>\n",
       "      <td>$0.00</td>\n",
       "      <td>$25,000.00</td>\n",
       "      <td>$12,500.00</td>\n",
       "    </tr>\n",
       "  </tbody>\n",
       "</table>\n",
       "<p>5 rows × 24 columns</p>\n",
       "</div>"
      ],
      "text/plain": [
       "   Id                            Name            City State    Zip  \\\n",
       "0   0                 NPE Realty, LLC  Pembroke Pines    FL  33027   \n",
       "1   1        KEVCO  CONSTRUCTION, LLC           SANDY    UT  84094   \n",
       "2   2            EAST L A SHOE REPAIR     LOS ANGELES    CA  90022   \n",
       "3   3           RUSSLER, DANIEL C, MD            LODI    WI  53555   \n",
       "4   4  AFFORDABLE FAMILY DENISTRY LLC         LEBANON    MO  65536   \n",
       "\n",
       "                            Bank BankState   NAICS ApprovalDate ApprovalFY  \\\n",
       "0  TD BANK, NATIONAL ASSOCIATION        DE  334516    16-Apr-10       2010   \n",
       "1      ZIONS FIRST NATIONAL BANK        UT  236115    30-Jan-10       2010   \n",
       "2     BANK OF AMERICA NATL ASSOC        NC  811430    29-Jul-02       2002   \n",
       "3     ASSOCIATED BANK NATL ASSOC        WI       0    10-Jun-94       1994   \n",
       "4                  COMMERCE BANK        MO  621210     6-Feb-06       2006   \n",
       "\n",
       "   ...  RetainedJob  FranchiseCode  UrbanRural  RevLineCr  LowDoc  \\\n",
       "0  ...            0              0           1          N       N   \n",
       "1  ...            3              0           1          N       N   \n",
       "2  ...            1              1           1          Y       N   \n",
       "3  ...            0              1           0          N       N   \n",
       "4  ...            2              1           1          T       N   \n",
       "\n",
       "   DisbursementDate  DisbursementGross BalanceGross          GrAppv  \\\n",
       "0          1-May-10     $2,000,000.00        $0.00   $2,000,000.00    \n",
       "1          1-Feb-10        $17,000.00        $0.00      $17,000.00    \n",
       "2         31-Aug-02        $17,000.00        $0.00      $17,000.00    \n",
       "3         31-Jul-94       $137,000.00        $0.00     $137,000.00    \n",
       "4         31-Mar-06        $46,665.00        $0.00      $25,000.00    \n",
       "\n",
       "         SBA_Appv  \n",
       "0  $1,500,000.00   \n",
       "1     $17,000.00   \n",
       "2      $8,500.00   \n",
       "3    $123,300.00   \n",
       "4     $12,500.00   \n",
       "\n",
       "[5 rows x 24 columns]"
      ]
     },
     "execution_count": 142,
     "metadata": {},
     "output_type": "execute_result"
    }
   ],
   "source": [
    "Xtrain.head()"
   ]
  },
  {
   "cell_type": "code",
   "execution_count": 143,
   "metadata": {},
   "outputs": [
    {
     "data": {
      "text/plain": [
       "Index(['Id', 'Name', 'City', 'State', 'Zip', 'Bank', 'BankState', 'NAICS',\n",
       "       'ApprovalDate', 'ApprovalFY', 'Term', 'NoEmp', 'NewExist', 'CreateJob',\n",
       "       'RetainedJob', 'FranchiseCode', 'UrbanRural', 'RevLineCr', 'LowDoc',\n",
       "       'DisbursementDate', 'DisbursementGross', 'BalanceGross', 'GrAppv',\n",
       "       'SBA_Appv'],\n",
       "      dtype='object')"
      ]
     },
     "execution_count": 143,
     "metadata": {},
     "output_type": "execute_result"
    }
   ],
   "source": [
    "Xtrain.columns"
   ]
  },
  {
   "cell_type": "code",
   "execution_count": 144,
   "metadata": {},
   "outputs": [
    {
     "name": "stdout",
     "output_type": "stream",
     "text": [
      "Id 50000\n",
      "Name 48757\n",
      "City 9488\n",
      "State 51\n",
      "Zip 13794\n",
      "Bank 2784\n",
      "BankState 53\n",
      "NAICS 1118\n",
      "ApprovalDate 6934\n",
      "ApprovalFY 47\n",
      "Term 325\n",
      "NoEmp 207\n",
      "NewExist 4\n",
      "CreateJob 98\n",
      "RetainedJob 144\n",
      "FranchiseCode 849\n",
      "UrbanRural 3\n",
      "RevLineCr 5\n",
      "LowDoc 8\n",
      "DisbursementDate 2434\n",
      "DisbursementGross 14120\n",
      "BalanceGross 1\n",
      "GrAppv 3951\n",
      "SBA_Appv 6048\n"
     ]
    }
   ],
   "source": [
    "for column in Xtrain.columns:\n",
    "    print(column,len(Xtrain[column].unique()))"
   ]
  },
  {
   "cell_type": "code",
   "execution_count": 145,
   "metadata": {},
   "outputs": [
    {
     "data": {
      "text/plain": [
       "array([1, 0, 2])"
      ]
     },
     "execution_count": 145,
     "metadata": {},
     "output_type": "execute_result"
    }
   ],
   "source": [
    "Xtrain['UrbanRural'].unique()"
   ]
  },
  {
   "cell_type": "code",
   "execution_count": 146,
   "metadata": {},
   "outputs": [
    {
     "data": {
      "text/html": [
       "<div>\n",
       "<style scoped>\n",
       "    .dataframe tbody tr th:only-of-type {\n",
       "        vertical-align: middle;\n",
       "    }\n",
       "\n",
       "    .dataframe tbody tr th {\n",
       "        vertical-align: top;\n",
       "    }\n",
       "\n",
       "    .dataframe thead th {\n",
       "        text-align: right;\n",
       "    }\n",
       "</style>\n",
       "<table border=\"1\" class=\"dataframe\">\n",
       "  <thead>\n",
       "    <tr style=\"text-align: right;\">\n",
       "      <th></th>\n",
       "      <th>Id</th>\n",
       "      <th>ChargeOff</th>\n",
       "    </tr>\n",
       "  </thead>\n",
       "  <tbody>\n",
       "    <tr>\n",
       "      <td>0</td>\n",
       "      <td>0</td>\n",
       "      <td>0</td>\n",
       "    </tr>\n",
       "    <tr>\n",
       "      <td>1</td>\n",
       "      <td>1</td>\n",
       "      <td>1</td>\n",
       "    </tr>\n",
       "    <tr>\n",
       "      <td>2</td>\n",
       "      <td>2</td>\n",
       "      <td>0</td>\n",
       "    </tr>\n",
       "    <tr>\n",
       "      <td>3</td>\n",
       "      <td>3</td>\n",
       "      <td>0</td>\n",
       "    </tr>\n",
       "    <tr>\n",
       "      <td>4</td>\n",
       "      <td>4</td>\n",
       "      <td>0</td>\n",
       "    </tr>\n",
       "  </tbody>\n",
       "</table>\n",
       "</div>"
      ],
      "text/plain": [
       "   Id  ChargeOff\n",
       "0   0          0\n",
       "1   1          1\n",
       "2   2          0\n",
       "3   3          0\n",
       "4   4          0"
      ]
     },
     "execution_count": 146,
     "metadata": {},
     "output_type": "execute_result"
    }
   ],
   "source": [
    "Ytrain.head()"
   ]
  },
  {
   "cell_type": "markdown",
   "metadata": {},
   "source": [
    "# Data Preprocessing"
   ]
  },
  {
   "cell_type": "code",
   "execution_count": 147,
   "metadata": {},
   "outputs": [],
   "source": [
    "def currency_to_decimal(amount):\n",
    "    return int(''.join(amount[1:-4].split(',')))"
   ]
  },
  {
   "cell_type": "code",
   "execution_count": 148,
   "metadata": {},
   "outputs": [],
   "source": [
    "def preprocessing(pd):\n",
    "    X = pd.loc[:,['NewExist','UrbanRural','LowDoc']].values.astype(str)\n",
    "    encoded_x = None\n",
    "    for i in range(0, X.shape[1]):\n",
    "        label_encoder = LabelEncoder()\n",
    "        feature = label_encoder.fit_transform(X[:,i])\n",
    "        feature = feature.reshape(X.shape[0], 1)\n",
    "        onehot_encoder = OneHotEncoder(sparse=False, categories='auto')\n",
    "        feature = onehot_encoder.fit_transform(feature)\n",
    "        if encoded_x is None:\n",
    "            encoded_x = feature\n",
    "        else:\n",
    "            encoded_x = np.concatenate((encoded_x, feature), axis=1)\n",
    "    return encoded_x"
   ]
  },
  {
   "cell_type": "markdown",
   "metadata": {},
   "source": [
    "# Training"
   ]
  },
  {
   "cell_type": "code",
   "execution_count": 149,
   "metadata": {},
   "outputs": [
    {
     "name": "stdout",
     "output_type": "stream",
     "text": [
      "X shape: (50000, 15)\n"
     ]
    },
    {
     "data": {
      "text/plain": [
       "XGBClassifier(base_score=0.5, booster='gbtree', colsample_bylevel=1,\n",
       "              colsample_bynode=1, colsample_bytree=1, gamma=0, gpu_id=-1,\n",
       "              importance_type='gain', interaction_constraints='',\n",
       "              learning_rate=0.300000012, max_delta_step=0, max_depth=6,\n",
       "              min_child_weight=1, missing=nan, monotone_constraints='()',\n",
       "              n_estimators=100, n_jobs=0, num_parallel_tree=1,\n",
       "              objective='binary:logistic', random_state=42, reg_alpha=0,\n",
       "              reg_lambda=1, scale_pos_weight=1, subsample=1,\n",
       "              tree_method='exact', validate_parameters=1, verbosity=None)"
      ]
     },
     "execution_count": 149,
     "metadata": {},
     "output_type": "execute_result"
    }
   ],
   "source": [
    "xgb_model = xgb.XGBClassifier(objective=\"binary:logistic\", random_state=42)\n",
    "xgb_model.fit(preprocessing(Xtrain), Ytrain['ChargeOff'].values)"
   ]
  },
  {
   "cell_type": "markdown",
   "metadata": {},
   "source": [
    "# Import test data "
   ]
  },
  {
   "cell_type": "code",
   "execution_count": 150,
   "metadata": {},
   "outputs": [
    {
     "name": "stderr",
     "output_type": "stream",
     "text": [
      "/opt/anaconda3/lib/python3.7/site-packages/IPython/core/interactiveshell.py:3058: DtypeWarning: Columns (9) have mixed types. Specify dtype option on import or set low_memory=False.\n",
      "  interactivity=interactivity, compiler=compiler, result=result)\n"
     ]
    }
   ],
   "source": [
    "Xtest = pd.read_csv('Xtest.csv')"
   ]
  },
  {
   "cell_type": "code",
   "execution_count": 151,
   "metadata": {},
   "outputs": [
    {
     "data": {
      "text/html": [
       "<div>\n",
       "<style scoped>\n",
       "    .dataframe tbody tr th:only-of-type {\n",
       "        vertical-align: middle;\n",
       "    }\n",
       "\n",
       "    .dataframe tbody tr th {\n",
       "        vertical-align: top;\n",
       "    }\n",
       "\n",
       "    .dataframe thead th {\n",
       "        text-align: right;\n",
       "    }\n",
       "</style>\n",
       "<table border=\"1\" class=\"dataframe\">\n",
       "  <thead>\n",
       "    <tr style=\"text-align: right;\">\n",
       "      <th></th>\n",
       "      <th>Id</th>\n",
       "      <th>Name</th>\n",
       "      <th>City</th>\n",
       "      <th>State</th>\n",
       "      <th>Zip</th>\n",
       "      <th>Bank</th>\n",
       "      <th>BankState</th>\n",
       "      <th>NAICS</th>\n",
       "      <th>ApprovalDate</th>\n",
       "      <th>ApprovalFY</th>\n",
       "      <th>...</th>\n",
       "      <th>RetainedJob</th>\n",
       "      <th>FranchiseCode</th>\n",
       "      <th>UrbanRural</th>\n",
       "      <th>RevLineCr</th>\n",
       "      <th>LowDoc</th>\n",
       "      <th>DisbursementDate</th>\n",
       "      <th>DisbursementGross</th>\n",
       "      <th>BalanceGross</th>\n",
       "      <th>GrAppv</th>\n",
       "      <th>SBA_Appv</th>\n",
       "    </tr>\n",
       "  </thead>\n",
       "  <tbody>\n",
       "    <tr>\n",
       "      <td>0</td>\n",
       "      <td>0</td>\n",
       "      <td>Bayridge Grocery Inc.</td>\n",
       "      <td>BROOKLYN</td>\n",
       "      <td>NY</td>\n",
       "      <td>11209</td>\n",
       "      <td>BANK OF AMERICA NATL ASSOC</td>\n",
       "      <td>NC</td>\n",
       "      <td>445110</td>\n",
       "      <td>15-Dec-05</td>\n",
       "      <td>2006</td>\n",
       "      <td>...</td>\n",
       "      <td>6</td>\n",
       "      <td>0</td>\n",
       "      <td>1</td>\n",
       "      <td>Y</td>\n",
       "      <td>N</td>\n",
       "      <td>31-Dec-05</td>\n",
       "      <td>$120,000.00</td>\n",
       "      <td>$0.00</td>\n",
       "      <td>$100,000.00</td>\n",
       "      <td>$50,000.00</td>\n",
       "    </tr>\n",
       "    <tr>\n",
       "      <td>1</td>\n",
       "      <td>1</td>\n",
       "      <td>SUBWAY</td>\n",
       "      <td>GILBERT</td>\n",
       "      <td>AZ</td>\n",
       "      <td>85297</td>\n",
       "      <td>INDEPENDENCE BANK</td>\n",
       "      <td>RI</td>\n",
       "      <td>722211</td>\n",
       "      <td>1-May-03</td>\n",
       "      <td>2003</td>\n",
       "      <td>...</td>\n",
       "      <td>0</td>\n",
       "      <td>78760</td>\n",
       "      <td>1</td>\n",
       "      <td>0</td>\n",
       "      <td>Y</td>\n",
       "      <td>30-Jun-03</td>\n",
       "      <td>$130,000.00</td>\n",
       "      <td>$0.00</td>\n",
       "      <td>$130,000.00</td>\n",
       "      <td>$110,500.00</td>\n",
       "    </tr>\n",
       "    <tr>\n",
       "      <td>2</td>\n",
       "      <td>2</td>\n",
       "      <td>1-800 RADIATOR OF KATY</td>\n",
       "      <td>KATY</td>\n",
       "      <td>TX</td>\n",
       "      <td>77450</td>\n",
       "      <td>BANCO POPULAR NORTH AMERICA</td>\n",
       "      <td>NY</td>\n",
       "      <td>423120</td>\n",
       "      <td>17-Oct-06</td>\n",
       "      <td>2007</td>\n",
       "      <td>...</td>\n",
       "      <td>1</td>\n",
       "      <td>407</td>\n",
       "      <td>1</td>\n",
       "      <td>0</td>\n",
       "      <td>N</td>\n",
       "      <td>31-Dec-06</td>\n",
       "      <td>$184,000.00</td>\n",
       "      <td>$0.00</td>\n",
       "      <td>$184,000.00</td>\n",
       "      <td>$138,000.00</td>\n",
       "    </tr>\n",
       "    <tr>\n",
       "      <td>3</td>\n",
       "      <td>3</td>\n",
       "      <td>DAUGHTERY'S FOOD&amp;FUEL CTR, INC</td>\n",
       "      <td>JEFFERSONVILLE</td>\n",
       "      <td>KY</td>\n",
       "      <td>40337</td>\n",
       "      <td>COMMUNITY TRUST BANK, INC.</td>\n",
       "      <td>KY</td>\n",
       "      <td>447110</td>\n",
       "      <td>8-Nov-00</td>\n",
       "      <td>2001</td>\n",
       "      <td>...</td>\n",
       "      <td>0</td>\n",
       "      <td>1</td>\n",
       "      <td>1</td>\n",
       "      <td>N</td>\n",
       "      <td>N</td>\n",
       "      <td>30-Apr-01</td>\n",
       "      <td>$80,000.00</td>\n",
       "      <td>$0.00</td>\n",
       "      <td>$135,000.00</td>\n",
       "      <td>$101,250.00</td>\n",
       "    </tr>\n",
       "    <tr>\n",
       "      <td>4</td>\n",
       "      <td>4</td>\n",
       "      <td>TGGP ENTERPRISES, LLC</td>\n",
       "      <td>TWINSBURG</td>\n",
       "      <td>OH</td>\n",
       "      <td>44087</td>\n",
       "      <td>CAPITAL ONE NATL ASSOC</td>\n",
       "      <td>VA</td>\n",
       "      <td>722110</td>\n",
       "      <td>27-Oct-05</td>\n",
       "      <td>2006</td>\n",
       "      <td>...</td>\n",
       "      <td>9</td>\n",
       "      <td>0</td>\n",
       "      <td>1</td>\n",
       "      <td>N</td>\n",
       "      <td>N</td>\n",
       "      <td>31-Dec-05</td>\n",
       "      <td>$50,000.00</td>\n",
       "      <td>$0.00</td>\n",
       "      <td>$50,000.00</td>\n",
       "      <td>$25,000.00</td>\n",
       "    </tr>\n",
       "  </tbody>\n",
       "</table>\n",
       "<p>5 rows × 24 columns</p>\n",
       "</div>"
      ],
      "text/plain": [
       "   Id                            Name            City State    Zip  \\\n",
       "0   0           Bayridge Grocery Inc.        BROOKLYN    NY  11209   \n",
       "1   1                          SUBWAY         GILBERT    AZ  85297   \n",
       "2   2          1-800 RADIATOR OF KATY            KATY    TX  77450   \n",
       "3   3  DAUGHTERY'S FOOD&FUEL CTR, INC  JEFFERSONVILLE    KY  40337   \n",
       "4   4           TGGP ENTERPRISES, LLC       TWINSBURG    OH  44087   \n",
       "\n",
       "                          Bank BankState   NAICS ApprovalDate ApprovalFY  ...  \\\n",
       "0   BANK OF AMERICA NATL ASSOC        NC  445110    15-Dec-05       2006  ...   \n",
       "1            INDEPENDENCE BANK        RI  722211     1-May-03       2003  ...   \n",
       "2  BANCO POPULAR NORTH AMERICA        NY  423120    17-Oct-06       2007  ...   \n",
       "3   COMMUNITY TRUST BANK, INC.        KY  447110     8-Nov-00       2001  ...   \n",
       "4       CAPITAL ONE NATL ASSOC        VA  722110    27-Oct-05       2006  ...   \n",
       "\n",
       "   RetainedJob  FranchiseCode  UrbanRural  RevLineCr  LowDoc  \\\n",
       "0            6              0           1          Y       N   \n",
       "1            0          78760           1          0       Y   \n",
       "2            1            407           1          0       N   \n",
       "3            0              1           1          N       N   \n",
       "4            9              0           1          N       N   \n",
       "\n",
       "   DisbursementDate  DisbursementGross BalanceGross        GrAppv  \\\n",
       "0         31-Dec-05       $120,000.00        $0.00   $100,000.00    \n",
       "1         30-Jun-03       $130,000.00        $0.00   $130,000.00    \n",
       "2         31-Dec-06       $184,000.00        $0.00   $184,000.00    \n",
       "3         30-Apr-01        $80,000.00        $0.00   $135,000.00    \n",
       "4         31-Dec-05        $50,000.00        $0.00    $50,000.00    \n",
       "\n",
       "       SBA_Appv  \n",
       "0   $50,000.00   \n",
       "1  $110,500.00   \n",
       "2  $138,000.00   \n",
       "3  $101,250.00   \n",
       "4   $25,000.00   \n",
       "\n",
       "[5 rows x 24 columns]"
      ]
     },
     "execution_count": 151,
     "metadata": {},
     "output_type": "execute_result"
    }
   ],
   "source": [
    "Xtest.head()"
   ]
  },
  {
   "cell_type": "code",
   "execution_count": 152,
   "metadata": {},
   "outputs": [
    {
     "name": "stdout",
     "output_type": "stream",
     "text": [
      "Id 100000\n",
      "Name 96410\n",
      "City 13109\n",
      "State 52\n",
      "Zip 17763\n",
      "Bank 3547\n",
      "BankState 53\n",
      "NAICS 1197\n",
      "ApprovalDate 7907\n",
      "ApprovalFY 86\n",
      "Term 348\n",
      "NoEmp 256\n",
      "NewExist 4\n",
      "CreateJob 118\n",
      "RetainedJob 186\n",
      "FranchiseCode 1230\n",
      "UrbanRural 3\n",
      "RevLineCr 9\n",
      "LowDoc 8\n",
      "DisbursementDate 3675\n",
      "DisbursementGross 25160\n",
      "BalanceGross 1\n",
      "GrAppv 5811\n",
      "SBA_Appv 9309\n"
     ]
    }
   ],
   "source": [
    "for column in Xtest.columns:\n",
    "    print(column,len(Xtest[column].unique()))"
   ]
  },
  {
   "cell_type": "markdown",
   "metadata": {},
   "source": [
    "# Testing & Output"
   ]
  },
  {
   "cell_type": "code",
   "execution_count": 183,
   "metadata": {},
   "outputs": [
    {
     "name": "stdout",
     "output_type": "stream",
     "text": [
      "X shape: (100000, 15)\n"
     ]
    }
   ],
   "source": [
    "y_pred = xgb_model.predict(preprocessing(Xtest))"
   ]
  },
  {
   "cell_type": "code",
   "execution_count": 184,
   "metadata": {},
   "outputs": [
    {
     "data": {
      "text/plain": [
       "array([1, 0, 1, ..., 1, 0, 1])"
      ]
     },
     "execution_count": 184,
     "metadata": {},
     "output_type": "execute_result"
    }
   ],
   "source": [
    "y_pred"
   ]
  },
  {
   "cell_type": "code",
   "execution_count": 185,
   "metadata": {},
   "outputs": [],
   "source": [
    "out = pd.DataFrame()\n",
    "out['Id'] = range(len(y_pred))\n",
    "out['ChargeOff'] = y_pred"
   ]
  },
  {
   "cell_type": "code",
   "execution_count": 186,
   "metadata": {},
   "outputs": [],
   "source": [
    "out.to_csv('out.csv', index=False)"
   ]
  },
  {
   "cell_type": "code",
   "execution_count": null,
   "metadata": {},
   "outputs": [],
   "source": []
  }
 ],
 "metadata": {
  "kernelspec": {
   "display_name": "Python 3",
   "language": "python",
   "name": "python3"
  },
  "language_info": {
   "codemirror_mode": {
    "name": "ipython",
    "version": 3
   },
   "file_extension": ".py",
   "mimetype": "text/x-python",
   "name": "python",
   "nbconvert_exporter": "python",
   "pygments_lexer": "ipython3",
   "version": "3.7.4"
  }
 },
 "nbformat": 4,
 "nbformat_minor": 2
}
