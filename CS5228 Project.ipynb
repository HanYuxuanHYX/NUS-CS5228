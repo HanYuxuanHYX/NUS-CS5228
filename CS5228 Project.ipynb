{
 "cells": [
  {
   "cell_type": "code",
   "execution_count": 44,
   "metadata": {},
   "outputs": [],
   "source": [
    "import numpy as np\n",
    "import pandas as pd"
   ]
  },
  {
   "cell_type": "code",
   "execution_count": 5,
   "metadata": {},
   "outputs": [],
   "source": [
    "Xtrain = pd.read_csv('Xtrain.csv')\n",
    "Ytrain = pd.read_csv('Ytrain.csv')"
   ]
  },
  {
   "cell_type": "code",
   "execution_count": 6,
   "metadata": {},
   "outputs": [
    {
     "data": {
      "text/html": [
       "<div>\n",
       "<style scoped>\n",
       "    .dataframe tbody tr th:only-of-type {\n",
       "        vertical-align: middle;\n",
       "    }\n",
       "\n",
       "    .dataframe tbody tr th {\n",
       "        vertical-align: top;\n",
       "    }\n",
       "\n",
       "    .dataframe thead th {\n",
       "        text-align: right;\n",
       "    }\n",
       "</style>\n",
       "<table border=\"1\" class=\"dataframe\">\n",
       "  <thead>\n",
       "    <tr style=\"text-align: right;\">\n",
       "      <th></th>\n",
       "      <th>Id</th>\n",
       "      <th>Name</th>\n",
       "      <th>City</th>\n",
       "      <th>State</th>\n",
       "      <th>Zip</th>\n",
       "      <th>Bank</th>\n",
       "      <th>BankState</th>\n",
       "      <th>NAICS</th>\n",
       "      <th>ApprovalDate</th>\n",
       "      <th>ApprovalFY</th>\n",
       "      <th>...</th>\n",
       "      <th>RetainedJob</th>\n",
       "      <th>FranchiseCode</th>\n",
       "      <th>UrbanRural</th>\n",
       "      <th>RevLineCr</th>\n",
       "      <th>LowDoc</th>\n",
       "      <th>DisbursementDate</th>\n",
       "      <th>DisbursementGross</th>\n",
       "      <th>BalanceGross</th>\n",
       "      <th>GrAppv</th>\n",
       "      <th>SBA_Appv</th>\n",
       "    </tr>\n",
       "  </thead>\n",
       "  <tbody>\n",
       "    <tr>\n",
       "      <td>0</td>\n",
       "      <td>0</td>\n",
       "      <td>NPE Realty, LLC</td>\n",
       "      <td>Pembroke Pines</td>\n",
       "      <td>FL</td>\n",
       "      <td>33027</td>\n",
       "      <td>TD BANK, NATIONAL ASSOCIATION</td>\n",
       "      <td>DE</td>\n",
       "      <td>334516</td>\n",
       "      <td>16-Apr-10</td>\n",
       "      <td>2010</td>\n",
       "      <td>...</td>\n",
       "      <td>0</td>\n",
       "      <td>0</td>\n",
       "      <td>1</td>\n",
       "      <td>N</td>\n",
       "      <td>N</td>\n",
       "      <td>1-May-10</td>\n",
       "      <td>$2,000,000.00</td>\n",
       "      <td>$0.00</td>\n",
       "      <td>$2,000,000.00</td>\n",
       "      <td>$1,500,000.00</td>\n",
       "    </tr>\n",
       "    <tr>\n",
       "      <td>1</td>\n",
       "      <td>1</td>\n",
       "      <td>KEVCO  CONSTRUCTION, LLC</td>\n",
       "      <td>SANDY</td>\n",
       "      <td>UT</td>\n",
       "      <td>84094</td>\n",
       "      <td>ZIONS FIRST NATIONAL BANK</td>\n",
       "      <td>UT</td>\n",
       "      <td>236115</td>\n",
       "      <td>30-Jan-10</td>\n",
       "      <td>2010</td>\n",
       "      <td>...</td>\n",
       "      <td>3</td>\n",
       "      <td>0</td>\n",
       "      <td>1</td>\n",
       "      <td>N</td>\n",
       "      <td>N</td>\n",
       "      <td>1-Feb-10</td>\n",
       "      <td>$17,000.00</td>\n",
       "      <td>$0.00</td>\n",
       "      <td>$17,000.00</td>\n",
       "      <td>$17,000.00</td>\n",
       "    </tr>\n",
       "    <tr>\n",
       "      <td>2</td>\n",
       "      <td>2</td>\n",
       "      <td>EAST L A SHOE REPAIR</td>\n",
       "      <td>LOS ANGELES</td>\n",
       "      <td>CA</td>\n",
       "      <td>90022</td>\n",
       "      <td>BANK OF AMERICA NATL ASSOC</td>\n",
       "      <td>NC</td>\n",
       "      <td>811430</td>\n",
       "      <td>29-Jul-02</td>\n",
       "      <td>2002</td>\n",
       "      <td>...</td>\n",
       "      <td>1</td>\n",
       "      <td>1</td>\n",
       "      <td>1</td>\n",
       "      <td>Y</td>\n",
       "      <td>N</td>\n",
       "      <td>31-Aug-02</td>\n",
       "      <td>$17,000.00</td>\n",
       "      <td>$0.00</td>\n",
       "      <td>$17,000.00</td>\n",
       "      <td>$8,500.00</td>\n",
       "    </tr>\n",
       "    <tr>\n",
       "      <td>3</td>\n",
       "      <td>3</td>\n",
       "      <td>RUSSLER, DANIEL C, MD</td>\n",
       "      <td>LODI</td>\n",
       "      <td>WI</td>\n",
       "      <td>53555</td>\n",
       "      <td>ASSOCIATED BANK NATL ASSOC</td>\n",
       "      <td>WI</td>\n",
       "      <td>0</td>\n",
       "      <td>10-Jun-94</td>\n",
       "      <td>1994</td>\n",
       "      <td>...</td>\n",
       "      <td>0</td>\n",
       "      <td>1</td>\n",
       "      <td>0</td>\n",
       "      <td>N</td>\n",
       "      <td>N</td>\n",
       "      <td>31-Jul-94</td>\n",
       "      <td>$137,000.00</td>\n",
       "      <td>$0.00</td>\n",
       "      <td>$137,000.00</td>\n",
       "      <td>$123,300.00</td>\n",
       "    </tr>\n",
       "    <tr>\n",
       "      <td>4</td>\n",
       "      <td>4</td>\n",
       "      <td>AFFORDABLE FAMILY DENISTRY LLC</td>\n",
       "      <td>LEBANON</td>\n",
       "      <td>MO</td>\n",
       "      <td>65536</td>\n",
       "      <td>COMMERCE BANK</td>\n",
       "      <td>MO</td>\n",
       "      <td>621210</td>\n",
       "      <td>6-Feb-06</td>\n",
       "      <td>2006</td>\n",
       "      <td>...</td>\n",
       "      <td>2</td>\n",
       "      <td>1</td>\n",
       "      <td>1</td>\n",
       "      <td>T</td>\n",
       "      <td>N</td>\n",
       "      <td>31-Mar-06</td>\n",
       "      <td>$46,665.00</td>\n",
       "      <td>$0.00</td>\n",
       "      <td>$25,000.00</td>\n",
       "      <td>$12,500.00</td>\n",
       "    </tr>\n",
       "  </tbody>\n",
       "</table>\n",
       "<p>5 rows × 24 columns</p>\n",
       "</div>"
      ],
      "text/plain": [
       "   Id                            Name            City State    Zip  \\\n",
       "0   0                 NPE Realty, LLC  Pembroke Pines    FL  33027   \n",
       "1   1        KEVCO  CONSTRUCTION, LLC           SANDY    UT  84094   \n",
       "2   2            EAST L A SHOE REPAIR     LOS ANGELES    CA  90022   \n",
       "3   3           RUSSLER, DANIEL C, MD            LODI    WI  53555   \n",
       "4   4  AFFORDABLE FAMILY DENISTRY LLC         LEBANON    MO  65536   \n",
       "\n",
       "                            Bank BankState   NAICS ApprovalDate ApprovalFY  \\\n",
       "0  TD BANK, NATIONAL ASSOCIATION        DE  334516    16-Apr-10       2010   \n",
       "1      ZIONS FIRST NATIONAL BANK        UT  236115    30-Jan-10       2010   \n",
       "2     BANK OF AMERICA NATL ASSOC        NC  811430    29-Jul-02       2002   \n",
       "3     ASSOCIATED BANK NATL ASSOC        WI       0    10-Jun-94       1994   \n",
       "4                  COMMERCE BANK        MO  621210     6-Feb-06       2006   \n",
       "\n",
       "   ...  RetainedJob  FranchiseCode  UrbanRural  RevLineCr  LowDoc  \\\n",
       "0  ...            0              0           1          N       N   \n",
       "1  ...            3              0           1          N       N   \n",
       "2  ...            1              1           1          Y       N   \n",
       "3  ...            0              1           0          N       N   \n",
       "4  ...            2              1           1          T       N   \n",
       "\n",
       "   DisbursementDate  DisbursementGross BalanceGross          GrAppv  \\\n",
       "0          1-May-10     $2,000,000.00        $0.00   $2,000,000.00    \n",
       "1          1-Feb-10        $17,000.00        $0.00      $17,000.00    \n",
       "2         31-Aug-02        $17,000.00        $0.00      $17,000.00    \n",
       "3         31-Jul-94       $137,000.00        $0.00     $137,000.00    \n",
       "4         31-Mar-06        $46,665.00        $0.00      $25,000.00    \n",
       "\n",
       "         SBA_Appv  \n",
       "0  $1,500,000.00   \n",
       "1     $17,000.00   \n",
       "2      $8,500.00   \n",
       "3    $123,300.00   \n",
       "4     $12,500.00   \n",
       "\n",
       "[5 rows x 24 columns]"
      ]
     },
     "execution_count": 6,
     "metadata": {},
     "output_type": "execute_result"
    }
   ],
   "source": [
    "Xtrain.head()"
   ]
  },
  {
   "cell_type": "code",
   "execution_count": 7,
   "metadata": {},
   "outputs": [
    {
     "data": {
      "text/html": [
       "<div>\n",
       "<style scoped>\n",
       "    .dataframe tbody tr th:only-of-type {\n",
       "        vertical-align: middle;\n",
       "    }\n",
       "\n",
       "    .dataframe tbody tr th {\n",
       "        vertical-align: top;\n",
       "    }\n",
       "\n",
       "    .dataframe thead th {\n",
       "        text-align: right;\n",
       "    }\n",
       "</style>\n",
       "<table border=\"1\" class=\"dataframe\">\n",
       "  <thead>\n",
       "    <tr style=\"text-align: right;\">\n",
       "      <th></th>\n",
       "      <th>Id</th>\n",
       "      <th>ChargeOff</th>\n",
       "    </tr>\n",
       "  </thead>\n",
       "  <tbody>\n",
       "    <tr>\n",
       "      <td>0</td>\n",
       "      <td>0</td>\n",
       "      <td>0</td>\n",
       "    </tr>\n",
       "    <tr>\n",
       "      <td>1</td>\n",
       "      <td>1</td>\n",
       "      <td>1</td>\n",
       "    </tr>\n",
       "    <tr>\n",
       "      <td>2</td>\n",
       "      <td>2</td>\n",
       "      <td>0</td>\n",
       "    </tr>\n",
       "    <tr>\n",
       "      <td>3</td>\n",
       "      <td>3</td>\n",
       "      <td>0</td>\n",
       "    </tr>\n",
       "    <tr>\n",
       "      <td>4</td>\n",
       "      <td>4</td>\n",
       "      <td>0</td>\n",
       "    </tr>\n",
       "  </tbody>\n",
       "</table>\n",
       "</div>"
      ],
      "text/plain": [
       "   Id  ChargeOff\n",
       "0   0          0\n",
       "1   1          1\n",
       "2   2          0\n",
       "3   3          0\n",
       "4   4          0"
      ]
     },
     "execution_count": 7,
     "metadata": {},
     "output_type": "execute_result"
    }
   ],
   "source": [
    "Ytrain.head()"
   ]
  },
  {
   "cell_type": "code",
   "execution_count": 60,
   "metadata": {},
   "outputs": [],
   "source": [
    "def currency_to_decimal(amount):\n",
    "    return int(''.join(amount[1:-4].split(',')))"
   ]
  },
  {
   "cell_type": "code",
   "execution_count": 18,
   "metadata": {},
   "outputs": [
    {
     "data": {
      "text/plain": [
       "119"
      ]
     },
     "execution_count": 18,
     "metadata": {},
     "output_type": "execute_result"
    }
   ],
   "source": [
    "Ytrain['ChargeOff'].iloc[Xtrain[Xtrain['GrAppv']==Xtrain['SBA_Appv']]['Id'].tolist()].sum()"
   ]
  },
  {
   "cell_type": "code",
   "execution_count": 58,
   "metadata": {},
   "outputs": [
    {
     "data": {
      "text/plain": [
       "2430"
      ]
     },
     "execution_count": 58,
     "metadata": {},
     "output_type": "execute_result"
    }
   ],
   "source": [
    "len(Xtrain[Xtrain['GrAppv']==Xtrain['SBA_Appv']])"
   ]
  },
  {
   "cell_type": "code",
   "execution_count": 62,
   "metadata": {},
   "outputs": [
    {
     "data": {
      "text/plain": [
       "0.50304"
      ]
     },
     "execution_count": 62,
     "metadata": {},
     "output_type": "execute_result"
    }
   ],
   "source": [
    "len(Ytrain[Ytrain['ChargeOff']==0])/len(Ytrain)"
   ]
  },
  {
   "cell_type": "code",
   "execution_count": null,
   "metadata": {},
   "outputs": [],
   "source": []
  }
 ],
 "metadata": {
  "kernelspec": {
   "display_name": "Python 3",
   "language": "python",
   "name": "python3"
  },
  "language_info": {
   "codemirror_mode": {
    "name": "ipython",
    "version": 3
   },
   "file_extension": ".py",
   "mimetype": "text/x-python",
   "name": "python",
   "nbconvert_exporter": "python",
   "pygments_lexer": "ipython3",
   "version": "3.7.4"
  }
 },
 "nbformat": 4,
 "nbformat_minor": 2
}
